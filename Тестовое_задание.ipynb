{
  "nbformat": 4,
  "nbformat_minor": 0,
  "metadata": {
    "colab": {
      "provenance": []
    },
    "kernelspec": {
      "name": "python3",
      "display_name": "Python 3"
    },
    "language_info": {
      "name": "python"
    }
  },
  "cells": [
    {
      "cell_type": "markdown",
      "source": [
        "Задание 1"
      ],
      "metadata": {
        "id": "JXoPwNov4AoX"
      }
    },
    {
      "cell_type": "code",
      "source": [
        "import re \n",
        "spetial_number = re.findall(r'\\d{2,4}\\\\\\d{2,5}',input())\n",
        "good_number = []\n",
        "for i in spetial_number:\n",
        "  n = i.split('\\\\')\n",
        "  cell = ''\n",
        "  if len(n[0]) <= 4:\n",
        "    cell += '0'*(4 - len(n[0])) + n[0] + '\\\\'\n",
        "  if len(n[1]) <= 5:\n",
        "    cell += '0'*(5 - len(n[1])) + n[1]\n",
        "  good_number.append(cell)\n",
        "\n",
        "[print(i) for i in good_number]"
      ],
      "metadata": {
        "id": "3DbNfPfMsniA",
        "colab": {
          "base_uri": "https://localhost:8080/"
        },
        "outputId": "7ad8da40-f588-45f2-95c2-77ba91e5a2c7"
      },
      "execution_count": 6,
      "outputs": [
        {
          "output_type": "stream",
          "name": "stdout",
          "text": [
            "Адрес 5467\\456. Номер 405\\549\n",
            "5467\\00456\n",
            "0405\\00549\n"
          ]
        },
        {
          "output_type": "execute_result",
          "data": {
            "text/plain": [
              "[None, None]"
            ]
          },
          "metadata": {},
          "execution_count": 6
        }
      ]
    },
    {
      "cell_type": "markdown",
      "source": [
        "Задание 2"
      ],
      "metadata": {
        "id": "Z-c6Z4ZP4Eum"
      }
    },
    {
      "cell_type": "code",
      "source": [
        "n, k = map(int, input().split())\n",
        "L = []\n",
        "for i in range(n):\n",
        "  L.append(int(input()))\n",
        "arr_end = []\n",
        "for i in L:\n",
        "  if i in sorted(L, reverse=True)[:k]:\n",
        "    arr_end.append(i/2)\n",
        "    arr_end.append(i/2)\n",
        "  else:\n",
        "    arr_end.append(i)\n",
        "[print(int(i)) for i in arr_end]"
      ],
      "metadata": {
        "colab": {
          "base_uri": "https://localhost:8080/"
        },
        "id": "fJSpQYEdLt0f",
        "outputId": "5259b228-7f41-4a48-a2a9-101c1caa1001"
      },
      "execution_count": 13,
      "outputs": [
        {
          "output_type": "stream",
          "name": "stdout",
          "text": [
            "5 3\n",
            "100\n",
            "180\n",
            "50\n",
            "60\n",
            "150\n",
            "50\n",
            "50\n",
            "90\n",
            "90\n",
            "50\n",
            "60\n",
            "75\n",
            "75\n"
          ]
        },
        {
          "output_type": "execute_result",
          "data": {
            "text/plain": [
              "[None, None, None, None, None, None, None, None]"
            ]
          },
          "metadata": {},
          "execution_count": 13
        }
      ]
    },
    {
      "cell_type": "markdown",
      "source": [
        "Задание 3"
      ],
      "metadata": {
        "id": "Mh8-sJhF4Glq"
      }
    },
    {
      "cell_type": "code",
      "source": [
        "arr = []\n",
        "final_str = ''\n",
        "for i in range(int(input())):\n",
        "  arr.append(input())\n",
        "for i in sorted(arr, reverse = True):\n",
        "  final_str += i\n",
        "print(final_str)"
      ],
      "metadata": {
        "colab": {
          "base_uri": "https://localhost:8080/"
        },
        "id": "n00hwaDKXTXe",
        "outputId": "80c7d41f-f3a8-4528-d879-3c6998a39a39"
      },
      "execution_count": 5,
      "outputs": [
        {
          "output_type": "stream",
          "name": "stdout",
          "text": [
            "4\n",
            "11\n",
            "234\n",
            "005\n",
            "89\n",
            "8923411005\n"
          ]
        }
      ]
    }
  ]
}